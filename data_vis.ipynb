{
 "cells": [
  {
   "cell_type": "code",
   "execution_count": 1,
   "id": "51a4e511-794f-40b0-b41b-b15ad14d077c",
   "metadata": {},
   "outputs": [],
   "source": [
    "import pandas as pd\n",
    "from src import utils\n",
    "from src.config import CFG"
   ]
  },
  {
   "cell_type": "code",
   "execution_count": 2,
   "id": "cf27960b-f4db-4dc4-9918-333f8a05bdea",
   "metadata": {},
   "outputs": [],
   "source": [
    "df = pd.read_csv(\"input/train_features.csv\")\n",
    "df2 = pd.read_csv('input/test_features.csv')"
   ]
  },
  {
   "cell_type": "code",
   "execution_count": 12,
   "id": "19b6b584",
   "metadata": {},
   "outputs": [],
   "source": [
    "df2 = utils.PCA_g(df2, n_components=CFG.n_components)  # PCA for genes\n",
    "df2 = utils.PCA_c(df2, n_components=CFG.n_components)  # PCA for cells\n",
    "\n",
    "df = utils.PCA_g(df, n_components=CFG.n_components)  # PCA for genes\n",
    "df = utils.PCA_c(df, n_components=CFG.n_components)  # PCA for cells\n"
   ]
  }
 ],
 "metadata": {
  "kernelspec": {
   "display_name": "base",
   "language": "python",
   "name": "python3"
  },
  "language_info": {
   "codemirror_mode": {
    "name": "ipython",
    "version": 3
   },
   "file_extension": ".py",
   "mimetype": "text/x-python",
   "name": "python",
   "nbconvert_exporter": "python",
   "pygments_lexer": "ipython3",
   "version": "3.10.8"
  },
  "vscode": {
   "interpreter": {
    "hash": "a118dae8436452ce116bedf4556e8c0e63fc873ec35fd13bf83c15a5b9e59cdb"
   }
  }
 },
 "nbformat": 4,
 "nbformat_minor": 5
}
